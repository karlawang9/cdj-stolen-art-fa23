{
 "cells": [
  {
   "cell_type": "code",
   "execution_count": 1,
   "metadata": {},
   "outputs": [],
   "source": [
    "import requests\n",
    "from bs4 import BeautifulSoup\n",
    "\n",
    "import pandas as pd\n",
    "import numpy as np"
   ]
  },
  {
   "cell_type": "code",
   "execution_count": 2,
   "metadata": {},
   "outputs": [],
   "source": [
    "# url is https://artcrimes.fbi.gov/nsaf-view?searchText=&crimeCategory=\n",
    "with open(\"../fbi_nsaf_pages/p1.html\", \"r\") as reader:\n",
    "    html_source = reader.read()"
   ]
  },
  {
   "cell_type": "code",
   "execution_count": 38,
   "metadata": {},
   "outputs": [],
   "source": [
    "page = BeautifulSoup(html_source, \"html.parser\")\n",
    "table_info=page.find_all(\"li\", class_=\"grid-item\")"
   ]
  },
  {
   "cell_type": "code",
   "execution_count": 46,
   "metadata": {},
   "outputs": [],
   "source": [
    "column_list = [\"Title\", \"Image Link\"]\n",
    "\n",
    "# finding all possible category names\n",
    "for row in table_info:\n",
    "    for column_title in row.find_all(\"li\"):\n",
    "        if column_title.find(\"span\").text not in column_list:\n",
    "            column_list.append(column_title.find(\"span\").text)"
   ]
  },
  {
   "cell_type": "code",
   "execution_count": 76,
   "metadata": {},
   "outputs": [],
   "source": [
    "data = {}\n",
    "for row_i in range(len(table_info)):\n",
    "    data[row_i]={}\n",
    "    for column in column_list:\n",
    "        data[row_i][column] = None\n",
    "    data[row_i][\"Title\"] = table_info[row_i].find(\"h3\").text\n",
    "    data[row_i][\"Image Link\"] = table_info[row_i].find(\"a\")[\"href\"]\n",
    "    for column_text_i in range(int(len(table_info[row_i].find_all(\"span\"))/2)):\n",
    "        data[row_i][table_info[row_i].find_all(\"span\")[column_text_i*2].text] = table_info[row_i].find_all(\"span\")[column_text_i*2+1].text"
   ]
  },
  {
   "cell_type": "code",
   "execution_count": 81,
   "metadata": {},
   "outputs": [
    {
     "data": {
      "text/html": [
       "<div>\n",
       "<style scoped>\n",
       "    .dataframe tbody tr th:only-of-type {\n",
       "        vertical-align: middle;\n",
       "    }\n",
       "\n",
       "    .dataframe tbody tr th {\n",
       "        vertical-align: top;\n",
       "    }\n",
       "\n",
       "    .dataframe thead th {\n",
       "        text-align: right;\n",
       "    }\n",
       "</style>\n",
       "<table border=\"1\" class=\"dataframe\">\n",
       "  <thead>\n",
       "    <tr style=\"text-align: right;\">\n",
       "      <th></th>\n",
       "      <th>Title</th>\n",
       "      <th>Image Link</th>\n",
       "      <th>Category</th>\n",
       "      <th>Reference Number</th>\n",
       "      <th>Maker/Artist</th>\n",
       "      <th>Materials</th>\n",
       "      <th>Measurements</th>\n",
       "      <th>Time Period</th>\n",
       "      <th>Additional Information</th>\n",
       "    </tr>\n",
       "  </thead>\n",
       "  <tbody>\n",
       "    <tr>\n",
       "      <th>0</th>\n",
       "      <td>Kapow</td>\n",
       "      <td>https://artcrimes.fbi.gov/nsaf/kapow/art-view?...</td>\n",
       "      <td>Paintings</td>\n",
       "      <td>00747</td>\n",
       "      <td>Nicole Charbonnet</td>\n",
       "      <td>Mixed media on canvas</td>\n",
       "      <td>72\" x 60\"</td>\n",
       "      <td>None</td>\n",
       "      <td>None</td>\n",
       "    </tr>\n",
       "    <tr>\n",
       "      <th>1</th>\n",
       "      <td>Acorn</td>\n",
       "      <td>https://artcrimes.fbi.gov/nsaf/acorn/art-view?...</td>\n",
       "      <td>lamp</td>\n",
       "      <td>00967</td>\n",
       "      <td>Tiffany</td>\n",
       "      <td>Metal; copper; stained glass</td>\n",
       "      <td>24 in</td>\n",
       "      <td>1906</td>\n",
       "      <td>lamp; green; Signed \"LCT\" on the base; signed ...</td>\n",
       "    </tr>\n",
       "    <tr>\n",
       "      <th>2</th>\n",
       "      <td>Quatre Etats du Saut</td>\n",
       "      <td>https://artcrimes.fbi.gov/nsaf/quatre-etats-du...</td>\n",
       "      <td>Print</td>\n",
       "      <td>00800</td>\n",
       "      <td>Vladimir Velickovic</td>\n",
       "      <td>Silkscreen on paper</td>\n",
       "      <td>31.5 in x 47.25 in</td>\n",
       "      <td>1977</td>\n",
       "      <td>signed and dated; edition 30/99</td>\n",
       "    </tr>\n",
       "    <tr>\n",
       "      <th>3</th>\n",
       "      <td>llex aquifolium</td>\n",
       "      <td>https://artcrimes.fbi.gov/nsaf/llex-aquifolium...</td>\n",
       "      <td>Paintings</td>\n",
       "      <td>01056</td>\n",
       "      <td>Mang Hang Ho</td>\n",
       "      <td>Watercolor and pencil on paper</td>\n",
       "      <td>Height: 10.5 in; Width: 8.25 in</td>\n",
       "      <td>1984</td>\n",
       "      <td>signed; Ho Mang Hang</td>\n",
       "    </tr>\n",
       "    <tr>\n",
       "      <th>4</th>\n",
       "      <td>Homage to Chagall</td>\n",
       "      <td>https://artcrimes.fbi.gov/nsaf/homage-to-chaga...</td>\n",
       "      <td>Print</td>\n",
       "      <td>00451</td>\n",
       "      <td>Marc Chagall</td>\n",
       "      <td>Lithograph</td>\n",
       "      <td>None</td>\n",
       "      <td>None</td>\n",
       "      <td>print; Signed; # 9/75</td>\n",
       "    </tr>\n",
       "  </tbody>\n",
       "</table>\n",
       "</div>"
      ],
      "text/plain": [
       "                  Title                                         Image Link  \\\n",
       "0                 Kapow  https://artcrimes.fbi.gov/nsaf/kapow/art-view?...   \n",
       "1                 Acorn  https://artcrimes.fbi.gov/nsaf/acorn/art-view?...   \n",
       "2  Quatre Etats du Saut  https://artcrimes.fbi.gov/nsaf/quatre-etats-du...   \n",
       "3       llex aquifolium  https://artcrimes.fbi.gov/nsaf/llex-aquifolium...   \n",
       "4     Homage to Chagall  https://artcrimes.fbi.gov/nsaf/homage-to-chaga...   \n",
       "\n",
       "    Category Reference Number         Maker/Artist  \\\n",
       "0  Paintings            00747    Nicole Charbonnet   \n",
       "1       lamp            00967              Tiffany   \n",
       "2      Print            00800  Vladimir Velickovic   \n",
       "3  Paintings            01056         Mang Hang Ho   \n",
       "4      Print            00451         Marc Chagall   \n",
       "\n",
       "                        Materials                     Measurements  \\\n",
       "0           Mixed media on canvas                        72\" x 60\"   \n",
       "1    Metal; copper; stained glass                            24 in   \n",
       "2             Silkscreen on paper               31.5 in x 47.25 in   \n",
       "3  Watercolor and pencil on paper  Height: 10.5 in; Width: 8.25 in   \n",
       "4                      Lithograph                             None   \n",
       "\n",
       "  Time Period                             Additional Information  \n",
       "0        None                                               None  \n",
       "1        1906  lamp; green; Signed \"LCT\" on the base; signed ...  \n",
       "2        1977                    signed and dated; edition 30/99  \n",
       "3        1984                               signed; Ho Mang Hang  \n",
       "4        None                              print; Signed; # 9/75  "
      ]
     },
     "execution_count": 81,
     "metadata": {},
     "output_type": "execute_result"
    }
   ],
   "source": [
    "df = pd.DataFrame(data).T\n",
    "df.head()"
   ]
  }
 ],
 "metadata": {
  "kernelspec": {
   "display_name": "Python 3.8.8 ('base')",
   "language": "python",
   "name": "python3"
  },
  "language_info": {
   "codemirror_mode": {
    "name": "ipython",
    "version": 3
   },
   "file_extension": ".py",
   "mimetype": "text/x-python",
   "name": "python",
   "nbconvert_exporter": "python",
   "pygments_lexer": "ipython3",
   "version": "3.9.15"
  },
  "vscode": {
   "interpreter": {
    "hash": "cd78fef2128015050713e82ca51c6520b11aee7c9ee8df750520bbbc7384cbaa"
   }
  }
 },
 "nbformat": 4,
 "nbformat_minor": 2
}
